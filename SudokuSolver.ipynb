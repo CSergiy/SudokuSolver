{
 "cells": [
  {
   "cell_type": "code",
   "execution_count": 10,
   "id": "1752d250-d625-44ab-a8d9-445485bc2b8c",
   "metadata": {},
   "outputs": [],
   "source": [
    "# Imports"
   ]
  },
  {
   "cell_type": "code",
   "execution_count": 1,
   "id": "08e0076e-a041-470b-8800-4c1c1e0d2ad7",
   "metadata": {},
   "outputs": [],
   "source": [
    "import pyautogui\n",
    "from PIL import Image\n",
    "\n",
    "import cv2\n",
    "import numpy as np\n",
    "from PIL import Image\n",
    "import io"
   ]
  },
  {
   "cell_type": "code",
   "execution_count": 11,
   "id": "19fcbf82-6bbc-48a1-b149-5b0e6f6b15a3",
   "metadata": {},
   "outputs": [],
   "source": [
    "## Image Acquisition"
   ]
  },
  {
   "cell_type": "code",
   "execution_count": 20,
   "id": "d9a875f1-c2a3-4f54-9e63-8df2e81957d3",
   "metadata": {},
   "outputs": [],
   "source": [
    "def acquire_image():\n",
    "    \"\"\"\n",
    "    Capture the current screen and return it as an image.\n",
    "\n",
    "    Returns:\n",
    "        screenshot (PIL.Image.Image): The captured screenshot.\n",
    "    \"\"\"\n",
    "    # Using pyautogui's screenshot feature to capture the screen\n",
    "    screenshot = pyautogui.screenshot()\n",
    "    return screenshot\n"
   ]
  },
  {
   "cell_type": "code",
   "execution_count": 13,
   "id": "22ebb1af-51b6-45b6-a317-b2d2599731e7",
   "metadata": {},
   "outputs": [],
   "source": [
    "## Pre-Process Image"
   ]
  },
  {
   "cell_type": "code",
   "execution_count": 7,
   "id": "cfc02dd4-bc3c-434e-9e58-b37ba6b28105",
   "metadata": {},
   "outputs": [],
   "source": [
    "def preprocess_image(image):\n",
    "    \"\"\"\n",
    "    Apply preprocessing steps to make the Sudoku grid easier to analyze.\n",
    "    \n",
    "    Parameters:\n",
    "        image (PIL.Image.Image): The input image to preprocess.\n",
    "    \n",
    "    Returns:\n",
    "        preprocessed_image (numpy.ndarray): The preprocessed image ready for further analysis.\n",
    "    \"\"\"\n",
    "    # Convert the PIL Image to an OpenCV image (PIL uses RGB, OpenCV uses BGR)\n",
    "    open_cv_image = np.array(image) \n",
    "    # Convert RGB to BGR \n",
    "    open_cv_image = open_cv_image[:, :, ::-1].copy() \n",
    "    \n",
    "    # Step 1: Convert to grayscale\n",
    "    gray_image = cv2.cvtColor(open_cv_image, cv2.COLOR_BGR2GRAY)\n",
    "    \n",
    "    # Step 2: Apply Gaussian blur to smooth out the image\n",
    "    blurred_image = cv2.GaussianBlur(gray_image, (5, 5), 0)\n",
    "    \n",
    "    # Step 3: Apply adaptive thresholding to create a binary image\n",
    "    threshold_image = cv2.adaptiveThreshold(blurred_image, 255, cv2.ADAPTIVE_THRESH_GAUSSIAN_C, \n",
    "                                            cv2.THRESH_BINARY, 11, 2)\n",
    "    \n",
    "    # Step 4: Find edges using the Canny edge detector\n",
    "    edged_image = cv2.Canny(threshold_image, 50, 150)\n",
    "    \n",
    "    return edged_image"
   ]
  },
  {
   "cell_type": "code",
   "execution_count": 14,
   "id": "9dfc41cd-d190-4955-92ae-18484bbb2a14",
   "metadata": {},
   "outputs": [],
   "source": [
    "## Detect Sudoku Grid & Cells"
   ]
  },
  {
   "cell_type": "code",
   "execution_count": 15,
   "id": "385df25a-1622-40da-b5f7-a9f1c4fd923e",
   "metadata": {},
   "outputs": [],
   "source": [
    "## Digit Recognition"
   ]
  },
  {
   "cell_type": "code",
   "execution_count": 16,
   "id": "4e970335-aa84-4261-882a-7ab94f590f36",
   "metadata": {},
   "outputs": [],
   "source": [
    "## Solve Sudoku"
   ]
  },
  {
   "cell_type": "code",
   "execution_count": 17,
   "id": "f23302ca-ccbf-4545-a8f5-4d144b45b701",
   "metadata": {},
   "outputs": [],
   "source": [
    "## Output Result"
   ]
  },
  {
   "cell_type": "markdown",
   "id": "d6fc07f2-b129-486e-a738-9742d889ab42",
   "metadata": {},
   "source": [
    "# Main"
   ]
  },
  {
   "cell_type": "code",
   "execution_count": 24,
   "id": "7484b361-8d0e-4be3-8d0e-14ea288d34be",
   "metadata": {},
   "outputs": [],
   "source": [
    "image = acquire_image()\n",
    "# Preprocess the screenshot\n",
    "preprocessed_image = preprocess_image(screenshot)\n",
    "\n",
    "# Convert the preprocessed image back to a PIL image to display it in Jupyter\n",
    "preprocessed_pil_image = Image.fromarray(preprocessed_image)"
   ]
  },
  {
   "cell_type": "code",
   "execution_count": null,
   "id": "c896a229-b1cf-44cb-ac3e-eecc090c1e8f",
   "metadata": {},
   "outputs": [],
   "source": []
  },
  {
   "cell_type": "code",
   "execution_count": null,
   "id": "1a099d8c-7fed-4c0d-a7fa-1d1de9ceb0fa",
   "metadata": {},
   "outputs": [],
   "source": []
  }
 ],
 "metadata": {
  "kernelspec": {
   "display_name": "Python 3 (ipykernel)",
   "language": "python",
   "name": "python3"
  },
  "language_info": {
   "codemirror_mode": {
    "name": "ipython",
    "version": 3
   },
   "file_extension": ".py",
   "mimetype": "text/x-python",
   "name": "python",
   "nbconvert_exporter": "python",
   "pygments_lexer": "ipython3",
   "version": "3.11.7"
  }
 },
 "nbformat": 4,
 "nbformat_minor": 5
}
