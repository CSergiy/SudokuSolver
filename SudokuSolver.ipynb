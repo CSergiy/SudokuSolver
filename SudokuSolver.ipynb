{
 "cells": [
  {
   "cell_type": "code",
   "execution_count": 1,
   "id": "08e0076e-a041-470b-8800-4c1c1e0d2ad7",
   "metadata": {},
   "outputs": [],
   "source": [
    "import pyautogui\n",
    "from PIL import Image\n",
    "\n",
    "import cv2\n",
    "import numpy as np\n",
    "from PIL import Image\n",
    "import io"
   ]
  },
  {
   "cell_type": "code",
   "execution_count": 7,
   "id": "cfc02dd4-bc3c-434e-9e58-b37ba6b28105",
   "metadata": {},
   "outputs": [],
   "source": [
    "def preprocess_image(image):\n",
    "    \"\"\"\n",
    "    Apply preprocessing steps to make the Sudoku grid easier to analyze.\n",
    "    \n",
    "    Parameters:\n",
    "        image (PIL.Image.Image): The input image to preprocess.\n",
    "    \n",
    "    Returns:\n",
    "        preprocessed_image (numpy.ndarray): The preprocessed image ready for further analysis.\n",
    "    \"\"\"\n",
    "    # Convert the PIL Image to an OpenCV image (PIL uses RGB, OpenCV uses BGR)\n",
    "    open_cv_image = np.array(image) \n",
    "    # Convert RGB to BGR \n",
    "    open_cv_image = open_cv_image[:, :, ::-1].copy() \n",
    "    \n",
    "    # Step 1: Convert to grayscale\n",
    "    gray_image = cv2.cvtColor(open_cv_image, cv2.COLOR_BGR2GRAY)\n",
    "    \n",
    "    # Step 2: Apply Gaussian blur to smooth out the image\n",
    "    blurred_image = cv2.GaussianBlur(gray_image, (5, 5), 0)\n",
    "    \n",
    "    # Step 3: Apply adaptive thresholding to create a binary image\n",
    "    threshold_image = cv2.adaptiveThreshold(blurred_image, 255, cv2.ADAPTIVE_THRESH_GAUSSIAN_C, \n",
    "                                            cv2.THRESH_BINARY, 11, 2)\n",
    "    \n",
    "    # Step 4: Find edges using the Canny edge detector\n",
    "    edged_image = cv2.Canny(threshold_image, 50, 150)\n",
    "    \n",
    "    return edged_image"
   ]
  },
  {
   "cell_type": "markdown",
   "id": "d6fc07f2-b129-486e-a738-9742d889ab42",
   "metadata": {},
   "source": [
    "# Main"
   ]
  },
  {
   "cell_type": "markdown",
   "id": "0bf09255-785f-42b9-a5d5-d002ef162ac4",
   "metadata": {},
   "source": [
    "## Take screenshot"
   ]
  },
  {
   "cell_type": "code",
   "execution_count": 8,
   "id": "7484b361-8d0e-4be3-8d0e-14ea288d34be",
   "metadata": {},
   "outputs": [],
   "source": [
    "# Using pyautogui's screenshot feature to capture the screen and then preprocessing that image\n",
    "screenshot = pyautogui.screenshot()"
   ]
  },
  {
   "cell_type": "markdown",
   "id": "f1039dbf-a0d6-4221-af8a-26bfb58c9f2b",
   "metadata": {},
   "source": [
    "## Preprocess screenshot"
   ]
  },
  {
   "cell_type": "code",
   "execution_count": 9,
   "id": "c896a229-b1cf-44cb-ac3e-eecc090c1e8f",
   "metadata": {},
   "outputs": [],
   "source": [
    "# Preprocess the screenshot\n",
    "preprocessed_image = preprocess_image(screenshot)\n",
    "\n",
    "# Convert the preprocessed image back to a PIL image to display it in Jupyter\n",
    "preprocessed_pil_image = Image.fromarray(preprocessed_image)\n",
    "\n",
    "# Display the preprocessed image\n",
    "preprocessed_pil_image.show()\n"
   ]
  },
  {
   "cell_type": "code",
   "execution_count": null,
   "id": "1f4215da-cf7c-41e1-8815-b0aa0fcb0842",
   "metadata": {},
   "outputs": [],
   "source": []
  }
 ],
 "metadata": {
  "kernelspec": {
   "display_name": "Python 3 (ipykernel)",
   "language": "python",
   "name": "python3"
  },
  "language_info": {
   "codemirror_mode": {
    "name": "ipython",
    "version": 3
   },
   "file_extension": ".py",
   "mimetype": "text/x-python",
   "name": "python",
   "nbconvert_exporter": "python",
   "pygments_lexer": "ipython3",
   "version": "3.11.7"
  }
 },
 "nbformat": 4,
 "nbformat_minor": 5
}
